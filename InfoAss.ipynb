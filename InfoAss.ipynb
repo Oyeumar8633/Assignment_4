{
 "cells": [
  {
   "cell_type": "code",
   "execution_count": 2,
   "metadata": {},
   "outputs": [
    {
     "name": "stdout",
     "output_type": "stream",
     "text": [
      "Found existing installation: xgboost 3.0.0\n",
      "Uninstalling xgboost-3.0.0:\n",
      "  Successfully uninstalled xgboost-3.0.0\n",
      "Collecting xgboost\n",
      "  Downloading xgboost-3.0.0-py3-none-macosx_12_0_arm64.whl.metadata (2.1 kB)\n",
      "Requirement already satisfied: numpy in /opt/anaconda3/lib/python3.11/site-packages (from xgboost) (1.26.0)\n",
      "Requirement already satisfied: scipy in /opt/anaconda3/lib/python3.11/site-packages (from xgboost) (1.11.4)\n",
      "Downloading xgboost-3.0.0-py3-none-macosx_12_0_arm64.whl (2.0 MB)\n",
      "\u001b[2K   \u001b[90m━━━━━━━━━━━━━━━━━━━━━━━━━━━━━━━━━━━━━━━━\u001b[0m \u001b[32m2.0/2.0 MB\u001b[0m \u001b[31m1.7 MB/s\u001b[0m eta \u001b[36m0:00:00\u001b[0m00:01\u001b[0m00:01\u001b[0m0m\n",
      "\u001b[?25hInstalling collected packages: xgboost\n",
      "Successfully installed xgboost-3.0.0\n"
     ]
    }
   ],
   "source": [
    "!pip uninstall -y xgboost\n",
    "!pip install --no-cache-dir xgboost\n"
   ]
  },
  {
   "cell_type": "code",
   "execution_count": 3,
   "metadata": {},
   "outputs": [
    {
     "name": "stdout",
     "output_type": "stream",
     "text": [
      "Python 3.11.7\n",
      "pip 23.3.1 from /opt/anaconda3/lib/python3.11/site-packages/pip (python 3.11)\n"
     ]
    }
   ],
   "source": [
    "!python --version\n",
    "!pip --version\n"
   ]
  },
  {
   "cell_type": "code",
   "execution_count": 4,
   "metadata": {},
   "outputs": [
    {
     "name": "stdout",
     "output_type": "stream",
     "text": [
      "Collecting xgboost\n",
      "  Downloading xgboost-2.1.4-py3-none-macosx_10_15_x86_64.macosx_11_0_x86_64.macosx_12_0_x86_64.whl.metadata (2.1 kB)\n",
      "Requirement already satisfied: numpy in /Users/umar/opt/anaconda3/lib/python3.9/site-packages (from xgboost) (1.24.4)\n",
      "Requirement already satisfied: scipy in /Users/umar/opt/anaconda3/lib/python3.9/site-packages (from xgboost) (1.9.3)\n",
      "Downloading xgboost-2.1.4-py3-none-macosx_10_15_x86_64.macosx_11_0_x86_64.macosx_12_0_x86_64.whl (2.1 MB)\n",
      "\u001b[2K   \u001b[90m━━━━━━━━━━━━━━━━━━━━━━━━━━━━━━━━━━━━━━━━\u001b[0m \u001b[32m2.1/2.1 MB\u001b[0m \u001b[31m2.7 MB/s\u001b[0m eta \u001b[36m0:00:00\u001b[0ma \u001b[36m0:00:01\u001b[0m0m\n",
      "\u001b[?25hInstalling collected packages: xgboost\n",
      "Successfully installed xgboost-2.1.4\n"
     ]
    }
   ],
   "source": [
    "import sys\n",
    "!{sys.executable} -m pip install xgboost\n"
   ]
  },
  {
   "cell_type": "code",
   "execution_count": null,
   "metadata": {},
   "outputs": [
    {
     "name": "stderr",
     "output_type": "stream",
     "text": [
      "/Users/umar/opt/anaconda3/lib/python3.9/site-packages/scipy/__init__.py:155: UserWarning: A NumPy version >=1.18.5 and <1.26.0 is required for this version of SciPy (detected version 1.26.4\n",
      "  warnings.warn(f\"A NumPy version >={np_minversion} and <{np_maxversion}\"\n"
     ]
    }
   ],
   "source": [
    "import pandas as pd\n",
    "import numpy as np\n",
    "import seaborn as sns\n",
    "import matplotlib.pyplot as plt\n",
    "import re\n",
    "import urllib.parse\n",
    "from sklearn.model_selection import train_test_split\n",
    "from sklearn.ensemble import RandomForestClassifier\n",
    "from sklearn.svm import SVC\n",
    "from xgboost import XGBClassifier\n",
    "from sklearn.metrics import accuracy_score, confusion_matrix, classification_report\n",
    "import tensorflow as tf\n",
    "from tensorflow.keras.models import Sequential\n",
    "from tensorflow.keras.layers import LSTM, Dense, Embedding, SpatialDropout1D\n",
    "from transformers import BertTokenizer, TFBertForSequenceClassification\n",
    "import torch\n",
    "\n",
    "def load_datasets():\n",
    "    file_paths = {\n",
    "        \"Benign\": \"Benign_list_big_final.csv\",\n",
    "        \"Defacement\": \"DefacementSitesURLFiltered.csv\",\n",
    "        \"Malware\": \"Malware_dataset.csv\",\n",
    "        \"Phishing\": \"phishing_dataset.csv\",\n",
    "        \"Spam\": \"spam_dataset.csv\",\n",
    "    }\n",
    "    \n",
    "    dataframes = []\n",
    "    for label, path in file_paths.items():\n",
    "        df = pd.read_csv(path, encoding='utf-8', error_bad_lines=False)\n",
    "        df['Label'] = label\n",
    "        dataframes.append(df)\n",
    "    \n",
    "    return pd.concat(dataframes, ignore_index=True)\n",
    "\n",
    "def preprocess_data(df):\n",
    "    df.drop_duplicates(inplace=True)\n",
    "    df.dropna(inplace=True)\n",
    "    return df\n",
    "\n",
    "def extract_features(df):\n",
    "    df['url_length'] = df['URL'].apply(len)\n",
    "    df['num_digits'] = df['URL'].apply(lambda x: sum(c.isdigit() for c in x))\n",
    "    df['num_special_chars'] = df['URL'].apply(lambda x: len(re.findall(r'[^a-zA-Z0-9]', x)))\n",
    "    return df\n",
    "\n",
    "def train_ml_models(X_train, X_test, y_train, y_test):\n",
    "    models = {\n",
    "        'RandomForest': RandomForestClassifier(),\n",
    "        'SVM': SVC(),\n",
    "        'XGBoost': XGBClassifier()\n",
    "    }\n",
    "    \n",
    "    results = {}\n",
    "    for name, model in models.items():\n",
    "        model.fit(X_train, y_train)\n",
    "        y_pred = model.predict(X_test)\n",
    "        results[name] = {\n",
    "            'Accuracy': accuracy_score(y_test, y_pred),\n",
    "            'Confusion Matrix': confusion_matrix(y_test, y_pred),\n",
    "            'Classification Report': classification_report(y_test, y_pred)\n",
    "        }\n",
    "    \n",
    "    return results\n",
    "\n",
    "def train_lstm(X_train, y_train, X_test, y_test):\n",
    "    model = Sequential([\n",
    "        Embedding(input_dim=5000, output_dim=64, input_length=100),\n",
    "        SpatialDropout1D(0.2),\n",
    "        LSTM(100, dropout=0.2, recurrent_dropout=0.2),\n",
    "        Dense(1, activation='sigmoid')\n",
    "    ])\n",
    "    model.compile(loss='binary_crossentropy', optimizer='adam', metrics=['accuracy'])\n",
    "    model.fit(X_train, y_train, epochs=5, batch_size=64, validation_data=(X_test, y_test))\n",
    "    return model\n",
    "\n",
    "def visualize_results(results):\n",
    "    for model, res in results.items():\n",
    "        print(f'\\n{model} Performance:')\n",
    "        print(f\"Accuracy: {res['Accuracy']:.2f}\")\n",
    "        sns.heatmap(res['Confusion Matrix'], annot=True, fmt='d')\n",
    "        plt.title(f'{model} Confusion Matrix')\n",
    "        plt.show()\n",
    "\n",
    "def main():\n",
    "    df = load_datasets()\n",
    "    df = preprocess_data(df)\n",
    "    df = extract_features(df)\n",
    "    X = df[['url_length', 'num_digits', 'num_special_chars']]\n",
    "    y = df['Label']\n",
    "    X_train, X_test, y_train, y_test = train_test_split(X, y, test_size=0.2, random_state=42)\n",
    "    results = train_ml_models(X_train, X_test, y_train, y_test)\n",
    "    visualize_results(results)\n",
    "\n",
    "if __name__ == \"__main__\":\n",
    "    main()"
   ]
  },
  {
   "cell_type": "code",
   "execution_count": null,
   "metadata": {},
   "outputs": [],
   "source": []
  }
 ],
 "metadata": {
  "kernelspec": {
   "display_name": "Python 3 (ipykernel)",
   "language": "python",
   "name": "python3"
  },
  "language_info": {
   "codemirror_mode": {
    "name": "ipython",
    "version": 3
   },
   "file_extension": ".py",
   "mimetype": "text/x-python",
   "name": "python",
   "nbconvert_exporter": "python",
   "pygments_lexer": "ipython3",
   "version": "3.9.18"
  }
 },
 "nbformat": 4,
 "nbformat_minor": 4
}
